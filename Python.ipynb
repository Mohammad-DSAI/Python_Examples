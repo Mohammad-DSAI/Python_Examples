{
  "nbformat": 4,
  "nbformat_minor": 0,
  "metadata": {
    "colab": {
      "provenance": []
    },
    "kernelspec": {
      "name": "python3",
      "display_name": "Python 3"
    },
    "language_info": {
      "name": "python"
    }
  },
  "cells": [
    {
      "cell_type": "code",
      "execution_count": null,
      "metadata": {
        "id": "4VXrbVx0B0De"
      },
      "outputs": [],
      "source": [
        "n = int(input('Please enter number of stuffs = '))\n",
        "s = 0\n",
        "i = 0\n",
        "while i < n:\n",
        "   s += float(input('Please neter your number:'))\n",
        "   i += 1\n",
        "print(s/n)"
      ]
    },
    {
      "cell_type": "code",
      "source": [
        "n = int(input('Please ener number = '))\n",
        "i = 1\n",
        "nf = 1\n",
        "while i <= n:\n",
        "  nf = nf * i\n",
        "  i += 1\n",
        "print(nf)"
      ],
      "metadata": {
        "colab": {
          "base_uri": "https://localhost:8080/"
        },
        "id": "jODjztH2MS6y",
        "outputId": "b930750c-ab91-4a2b-955b-627e53dcb516"
      },
      "execution_count": null,
      "outputs": [
        {
          "output_type": "stream",
          "name": "stdout",
          "text": [
            "Please ener number = 20\n",
            "2432902008176640000\n"
          ]
        }
      ]
    },
    {
      "cell_type": "code",
      "source": [
        "n = int(input('Please enter the number of estimation = '))\n",
        "i = 0\n",
        "k = 1\n",
        "pi = 4\n",
        "while i < n:\n",
        "  k = k + 2\n",
        "  if i % 2 == 0:\n",
        "    pi = pi - 4/(k)\n",
        "  else:\n",
        "    pi = pi + 4/(k)\n",
        "  i += 1\n",
        "print('PI = ', pi)"
      ],
      "metadata": {
        "colab": {
          "base_uri": "https://localhost:8080/"
        },
        "id": "WftP8llPPJe6",
        "outputId": "1c71bc3e-6660-45d1-bc46-b7b0a7feba13"
      },
      "execution_count": null,
      "outputs": [
        {
          "output_type": "stream",
          "name": "stdout",
          "text": [
            "Please enter the number of estimation = 20000\n",
            "PI =  3.1416426510898874\n"
          ]
        }
      ]
    },
    {
      "cell_type": "code",
      "source": [
        "n = int(input('Please enter nth of fibonatchi term (n) = '))\n",
        "i = 0\n",
        "x = 1\n",
        "y = 0\n",
        "while i < n:\n",
        "  fi = x + y\n",
        "  x , y = y , fi\n",
        "  i += 1\n",
        "print('Fibunatchi = ', fi)"
      ],
      "metadata": {
        "colab": {
          "base_uri": "https://localhost:8080/"
        },
        "id": "a0jzyrmrSWC2",
        "outputId": "2fefa6eb-adca-4847-88d7-f1d1bb90abbe"
      },
      "execution_count": null,
      "outputs": [
        {
          "output_type": "stream",
          "name": "stdout",
          "text": [
            "Please enter nth of fibonatchi term (n) = 7\n",
            "Fibunatchi =  13\n"
          ]
        }
      ]
    },
    {
      "cell_type": "code",
      "source": [
        "n = int(input())\n",
        "list = []\n",
        "i = 0\n",
        "while i < n:\n",
        "  list.append(float(input()))\n",
        "  i += 1\n",
        "print(list)\n",
        "\n",
        "i = 0\n",
        "s = 0\n",
        "while i < len(list):\n",
        "  s += list[i]\n",
        "  i += 1\n",
        "print(s/len(list))"
      ],
      "metadata": {
        "id": "Nnh1DgArWSfU"
      },
      "execution_count": null,
      "outputs": []
    },
    {
      "cell_type": "code",
      "source": [
        "i = 0\n",
        "while i in range(3):\n",
        "  print(i)\n",
        "  i +=1"
      ],
      "metadata": {
        "colab": {
          "base_uri": "https://localhost:8080/"
        },
        "id": "fxq6XZxAYs_P",
        "outputId": "deb99c61-6db1-4a04-d427-ef5cd34a69e4"
      },
      "execution_count": null,
      "outputs": [
        {
          "output_type": "stream",
          "name": "stdout",
          "text": [
            "0\n",
            "1\n",
            "2\n"
          ]
        }
      ]
    },
    {
      "cell_type": "code",
      "source": [
        "a = [2, 3, 1, 5, -1]\n",
        "max = 0\n",
        "for i in a:\n",
        "  if max < i:\n",
        "    max = i\n",
        "print('Maximum is = ', max)"
      ],
      "metadata": {
        "colab": {
          "base_uri": "https://localhost:8080/"
        },
        "id": "r88f5idRZMpv",
        "outputId": "28ffb9ec-1bb1-4cfa-c768-33c47716f279"
      },
      "execution_count": null,
      "outputs": [
        {
          "output_type": "stream",
          "name": "stdout",
          "text": [
            "Maximum is =  5\n"
          ]
        }
      ]
    },
    {
      "cell_type": "code",
      "source": [
        "def odd_num(x):\n",
        "  if x % 2 == 0:\n",
        "    return 'Even'\n",
        "  else:\n",
        "    return 'Odd'\n",
        "\n",
        "print(odd_num(2))"
      ],
      "metadata": {
        "id": "2kRIrTktLheh"
      },
      "execution_count": null,
      "outputs": []
    },
    {
      "cell_type": "code",
      "source": [
        "def mean(x):\n",
        "  s = 0\n",
        "  for i in x:\n",
        "    s += i\n",
        "  return s/len(x)\n",
        "\n",
        "print(mean([1,2,3,4]))"
      ],
      "metadata": {
        "id": "FtgeGzUSMKc0"
      },
      "execution_count": null,
      "outputs": []
    },
    {
      "cell_type": "code",
      "source": [
        "def find_index(a,x):\n",
        "\n",
        "  for i in range(len(x)):\n",
        "    if x[i] == a:\n",
        "      return i\n",
        "      break\n",
        "\n",
        "print(find_index(3,[1,2,3]))"
      ],
      "metadata": {
        "id": "3LXkx2A7NHII"
      },
      "execution_count": null,
      "outputs": []
    },
    {
      "cell_type": "code",
      "source": [
        "def nfactorial(n):\n",
        "  fact = 1\n",
        "  for i in range (1,n+1):\n",
        "    fact *= i\n",
        "  return fact\n",
        "\n",
        "print(nfactorial(3))"
      ],
      "metadata": {
        "id": "l7PckdFWOh2V"
      },
      "execution_count": null,
      "outputs": []
    },
    {
      "cell_type": "code",
      "source": [
        "list = []\n",
        "for i in range(1,int(input('Enter the number: '))+1):\n",
        "  list.append(i)\n",
        "print(list)"
      ],
      "metadata": {
        "colab": {
          "base_uri": "https://localhost:8080/"
        },
        "id": "574hprNtVBMc",
        "outputId": "02c69cd9-1adb-4dc0-f937-99aecf92f384"
      },
      "execution_count": null,
      "outputs": [
        {
          "output_type": "stream",
          "name": "stdout",
          "text": [
            "Enter the number: 6\n",
            "[1, 2, 3, 4, 5, 6]\n"
          ]
        }
      ]
    },
    {
      "cell_type": "code",
      "source": [
        "from numpy import argmax\n",
        "a = [1,3,5,2,6,8,44,1,2,33]\n",
        "print(argmax(a))"
      ],
      "metadata": {
        "colab": {
          "base_uri": "https://localhost:8080/"
        },
        "id": "DAi0u2iOWubN",
        "outputId": "ac9a17c9-5b6b-433a-93d4-daf3294226ae"
      },
      "execution_count": null,
      "outputs": [
        {
          "output_type": "stream",
          "name": "stdout",
          "text": [
            "6\n"
          ]
        }
      ]
    },
    {
      "cell_type": "code",
      "source": [
        "from math import factorial, ceil, floor, log, sqrt, pi, inf, nan\n",
        "from statistics import mean, median, variance, mode"
      ],
      "metadata": {
        "colab": {
          "base_uri": "https://localhost:8080/"
        },
        "id": "euaERs9XWuZP",
        "outputId": "2fdb42e8-2b76-466d-a65b-a69a17910b7d"
      },
      "execution_count": null,
      "outputs": [
        {
          "output_type": "stream",
          "name": "stdout",
          "text": [
            "6\n"
          ]
        }
      ]
    },
    {
      "cell_type": "code",
      "source": [
        "print([1,2,3,4] * 2)\n",
        "print([1,2,3,4] + [10])"
      ],
      "metadata": {
        "colab": {
          "base_uri": "https://localhost:8080/"
        },
        "id": "vbBPmMV4WuWw",
        "outputId": "24330fcc-55c5-4443-c181-5ee103f44932"
      },
      "execution_count": null,
      "outputs": [
        {
          "output_type": "stream",
          "name": "stdout",
          "text": [
            "[1, 2, 3, 4, 1, 2, 3, 4]\n",
            "[1, 2, 3, 4, 10]\n"
          ]
        }
      ]
    },
    {
      "cell_type": "code",
      "source": [
        "a = [1,2,3,4]\n",
        "a.append(4)\n",
        "a.extend([2,3])\n",
        "a.insert(0,3)\n",
        "a.pop()\n",
        "a.pop(0)\n",
        "a.remove(4)\n",
        "del a[1]\n",
        "a.count(4)\n",
        "a.index(2)\n",
        "a.sort()\n",
        "a.sort(reverse = True)\n",
        "b = sorted(a)\n",
        "b = a.copy()  # for more info \"https://medium.com/@thawsitt/assignment-vs-shallow-copy-vs-deep-copy-in-python-f70c2f0ebd86\""
      ],
      "metadata": {
        "colab": {
          "base_uri": "https://localhost:8080/"
        },
        "id": "MIR8wf-fbktN",
        "outputId": "d8dfcccc-b472-45ac-86f8-02052768f3c5"
      },
      "execution_count": null,
      "outputs": [
        {
          "output_type": "execute_result",
          "data": {
            "text/plain": [
              "[1, 2, 3, 4]"
            ]
          },
          "metadata": {},
          "execution_count": 42
        }
      ]
    },
    {
      "cell_type": "code",
      "source": [
        "s = 'my name is mohammad'\n",
        "print(s.split( ))\n",
        "print(s.split( )[0])\n",
        "print('_'.join(['a','b','c']))"
      ],
      "metadata": {
        "colab": {
          "base_uri": "https://localhost:8080/"
        },
        "id": "eaxO5QDuxCnk",
        "outputId": "24af1f81-2e09-443e-bcf8-a90182288f29"
      },
      "execution_count": null,
      "outputs": [
        {
          "output_type": "stream",
          "name": "stdout",
          "text": [
            "['my', 'name', 'is', 'mohammad']\n",
            "my\n",
            "a_b_c\n"
          ]
        }
      ]
    },
    {
      "cell_type": "code",
      "source": [
        "def assymetric_string(x):\n",
        "  a = [*x]\n",
        "  b = a.copy()\n",
        "  b.reverse()\n",
        "  if a == b:\n",
        "    return 'String is assysmetric'\n",
        "  else:\n",
        "    return 'String is not assysmetric'\n",
        "\n",
        "print(assymetric_string('hannmah'))"
      ],
      "metadata": {
        "id": "e32_DezHzQaJ"
      },
      "execution_count": null,
      "outputs": []
    },
    {
      "cell_type": "code",
      "source": [
        "a = ' i am mohammad'\n",
        "print([*a])"
      ],
      "metadata": {
        "colab": {
          "base_uri": "https://localhost:8080/"
        },
        "id": "PESymu_u3Sin",
        "outputId": "1bdba222-91a2-426e-f7fd-efe26032c0fe"
      },
      "execution_count": null,
      "outputs": [
        {
          "output_type": "stream",
          "name": "stdout",
          "text": [
            "[' ', 'i', ' ', 'a', 'm', ' ', 'm', 'o', 'h', 'a', 'm', 'm', 'a', 'd']\n"
          ]
        }
      ]
    },
    {
      "cell_type": "code",
      "source": [
        "# Muteble: list, set, dict\n",
        "# Immutable: int, float, bool, tuple, str"
      ],
      "metadata": {
        "id": "6hbJ4DJU6zob"
      },
      "execution_count": null,
      "outputs": []
    },
    {
      "cell_type": "code",
      "source": [
        "# Tuple\n",
        "a = (1,2,3)"
      ],
      "metadata": {
        "id": "RkB6RTpy3jZU"
      },
      "execution_count": null,
      "outputs": []
    },
    {
      "cell_type": "code",
      "source": [
        "# All does not work on tuples\n",
        "a[0] = 5 # error  tuples does not support item assignment\n",
        "a.append(5)  # error  has not attribute 'append'\n",
        "a.sort()"
      ],
      "metadata": {
        "id": "TxZkI5lG345v"
      },
      "execution_count": null,
      "outputs": []
    },
    {
      "cell_type": "code",
      "source": [
        "# All work on tuple\n",
        "print(a[0])\n",
        "print(a.count(2))\n",
        "print(a.index(2))\n",
        "print(sorted(a))"
      ],
      "metadata": {
        "id": "_-FfebFs59jo"
      },
      "execution_count": null,
      "outputs": []
    },
    {
      "cell_type": "code",
      "source": [
        "# String\n",
        "s = 'abc'\n",
        "print('a' in s)\n",
        "print(s[0])\n",
        "# s[0] = 'd'  doea not work\n",
        "print('********')\n",
        "for x in s:\n",
        "  print (x)\n",
        "print('********')\n",
        "for i in range (len(s)):\n",
        "  print(i)\n",
        "print('********')\n",
        "print('a' + 'b')\n",
        "print('********')\n",
        "print('a' * 3)"
      ],
      "metadata": {
        "id": "amkDVhWv7i__"
      },
      "execution_count": null,
      "outputs": []
    },
    {
      "cell_type": "code",
      "source": [
        "s = 'abaA1B'"
      ],
      "metadata": {
        "id": "p8HZoE849dWJ"
      },
      "execution_count": null,
      "outputs": []
    },
    {
      "cell_type": "code",
      "source": [
        "s.find('a')"
      ],
      "metadata": {
        "colab": {
          "base_uri": "https://localhost:8080/"
        },
        "id": "59xrbf7W9nMT",
        "outputId": "0841262b-4c5b-4c07-9547-610942e035ec"
      },
      "execution_count": null,
      "outputs": [
        {
          "output_type": "execute_result",
          "data": {
            "text/plain": [
              "0"
            ]
          },
          "metadata": {},
          "execution_count": 23
        }
      ]
    },
    {
      "cell_type": "code",
      "source": [
        "s.find('d')"
      ],
      "metadata": {
        "colab": {
          "base_uri": "https://localhost:8080/"
        },
        "id": "IwZV2J8593j9",
        "outputId": "59a5eaf6-5a8c-48f2-d625-5d3534c472bc"
      },
      "execution_count": null,
      "outputs": [
        {
          "output_type": "execute_result",
          "data": {
            "text/plain": [
              "-1"
            ]
          },
          "metadata": {},
          "execution_count": 24
        }
      ]
    },
    {
      "cell_type": "code",
      "source": [
        "s.count('a')"
      ],
      "metadata": {
        "colab": {
          "base_uri": "https://localhost:8080/"
        },
        "id": "JHTV29eP9682",
        "outputId": "3428b9f1-a5a0-4c1e-82c4-87f8139fce0b"
      },
      "execution_count": null,
      "outputs": [
        {
          "output_type": "execute_result",
          "data": {
            "text/plain": [
              "2"
            ]
          },
          "metadata": {},
          "execution_count": 29
        }
      ]
    },
    {
      "cell_type": "code",
      "source": [
        "s.replace('a', 'A')"
      ],
      "metadata": {
        "colab": {
          "base_uri": "https://localhost:8080/",
          "height": 35
        },
        "id": "JA26Rsfs99su",
        "outputId": "ab3d93a0-b96b-4ec3-88df-80edb13910ae"
      },
      "execution_count": null,
      "outputs": [
        {
          "output_type": "execute_result",
          "data": {
            "text/plain": [
              "'AbAA1B'"
            ],
            "application/vnd.google.colaboratory.intrinsic+json": {
              "type": "string"
            }
          },
          "metadata": {},
          "execution_count": 31
        }
      ]
    },
    {
      "cell_type": "code",
      "source": [
        "s.lower()"
      ],
      "metadata": {
        "colab": {
          "base_uri": "https://localhost:8080/",
          "height": 35
        },
        "id": "8r47d-pd-OLS",
        "outputId": "8229017a-8273-4637-809f-d491b5b2c790"
      },
      "execution_count": null,
      "outputs": [
        {
          "output_type": "execute_result",
          "data": {
            "text/plain": [
              "'abaa1b'"
            ],
            "application/vnd.google.colaboratory.intrinsic+json": {
              "type": "string"
            }
          },
          "metadata": {},
          "execution_count": 33
        }
      ]
    },
    {
      "cell_type": "code",
      "source": [
        "s.upper()"
      ],
      "metadata": {
        "colab": {
          "base_uri": "https://localhost:8080/",
          "height": 35
        },
        "id": "430RnjPy-RAB",
        "outputId": "82a6c2ea-2242-4014-f688-ef874aa020c8"
      },
      "execution_count": null,
      "outputs": [
        {
          "output_type": "execute_result",
          "data": {
            "text/plain": [
              "'ABAA1B'"
            ],
            "application/vnd.google.colaboratory.intrinsic+json": {
              "type": "string"
            }
          },
          "metadata": {},
          "execution_count": 35
        }
      ]
    },
    {
      "cell_type": "code",
      "source": [
        "s = '123'\n",
        "s.isdigit()"
      ],
      "metadata": {
        "colab": {
          "base_uri": "https://localhost:8080/"
        },
        "id": "XP6SkAIt-TuI",
        "outputId": "52eada52-d2e6-46d4-cedc-98509d5aa555"
      },
      "execution_count": null,
      "outputs": [
        {
          "output_type": "execute_result",
          "data": {
            "text/plain": [
              "True"
            ]
          },
          "metadata": {},
          "execution_count": 36
        }
      ]
    },
    {
      "cell_type": "code",
      "source": [
        "s = ' bbc '\n",
        "s.strip()"
      ],
      "metadata": {
        "colab": {
          "base_uri": "https://localhost:8080/",
          "height": 35
        },
        "id": "07uBKDZm-aXl",
        "outputId": "0bd8daa7-38f1-43c7-d037-3b7e1ddd27bb"
      },
      "execution_count": null,
      "outputs": [
        {
          "output_type": "execute_result",
          "data": {
            "text/plain": [
              "'bbc'"
            ],
            "application/vnd.google.colaboratory.intrinsic+json": {
              "type": "string"
            }
          },
          "metadata": {},
          "execution_count": 38
        }
      ]
    },
    {
      "cell_type": "code",
      "source": [
        "s = 'a b c'\n",
        "s.split(' ')"
      ],
      "metadata": {
        "colab": {
          "base_uri": "https://localhost:8080/"
        },
        "id": "Yuk3xosq-kcB",
        "outputId": "85230deb-7b6c-4902-de94-55e3961160bb"
      },
      "execution_count": null,
      "outputs": [
        {
          "output_type": "execute_result",
          "data": {
            "text/plain": [
              "['a', 'b', 'c']"
            ]
          },
          "metadata": {},
          "execution_count": 40
        }
      ]
    },
    {
      "cell_type": "code",
      "source": [
        "s = 'i am mohammad'\n",
        "[*s]"
      ],
      "metadata": {
        "colab": {
          "base_uri": "https://localhost:8080/"
        },
        "id": "yr5MF_MB_cxF",
        "outputId": "accb2b43-f32c-43d5-abdd-a983421aad67"
      },
      "execution_count": null,
      "outputs": [
        {
          "output_type": "execute_result",
          "data": {
            "text/plain": [
              "['i', ' ', 'a', 'm', ' ', 'm', 'o', 'h', 'a', 'm', 'm', 'a', 'd']"
            ]
          },
          "metadata": {},
          "execution_count": 42
        }
      ]
    },
    {
      "cell_type": "code",
      "source": [
        "'_'.join(['a', 'b', 'c'])"
      ],
      "metadata": {
        "colab": {
          "base_uri": "https://localhost:8080/",
          "height": 35
        },
        "id": "Th_rP2qA_h7Z",
        "outputId": "1a2ca319-0b8e-4c41-ad04-ce8dd1863a69"
      },
      "execution_count": null,
      "outputs": [
        {
          "output_type": "execute_result",
          "data": {
            "text/plain": [
              "'a_b_c'"
            ],
            "application/vnd.google.colaboratory.intrinsic+json": {
              "type": "string"
            }
          },
          "metadata": {},
          "execution_count": 44
        }
      ]
    },
    {
      "cell_type": "code",
      "source": [
        "''.join(['i', ' ', 'a', 'm', ' ', 'm', 'o', 'h', 'a', 'm', 'm', 'a', 'd'])"
      ],
      "metadata": {
        "colab": {
          "base_uri": "https://localhost:8080/",
          "height": 35
        },
        "id": "u5LQGGSp_qWU",
        "outputId": "1aa607f2-1952-4320-c091-4609916f5215"
      },
      "execution_count": null,
      "outputs": [
        {
          "output_type": "execute_result",
          "data": {
            "text/plain": [
              "'i am mohammad'"
            ],
            "application/vnd.google.colaboratory.intrinsic+json": {
              "type": "string"
            }
          },
          "metadata": {},
          "execution_count": 45
        }
      ]
    },
    {
      "cell_type": "code",
      "source": [
        "# set\n",
        "s = {1, 3}\n",
        "s.add(2)\n",
        "s"
      ],
      "metadata": {
        "colab": {
          "base_uri": "https://localhost:8080/"
        },
        "id": "0Dr_7VYc_xjP",
        "outputId": "a8505e0b-1c0d-4ca0-e8db-2d617d8946ef"
      },
      "execution_count": null,
      "outputs": [
        {
          "output_type": "execute_result",
          "data": {
            "text/plain": [
              "{1, 2, 3}"
            ]
          },
          "metadata": {},
          "execution_count": 48
        }
      ]
    },
    {
      "cell_type": "code",
      "source": [
        "s.add(2)\n",
        "s"
      ],
      "metadata": {
        "colab": {
          "base_uri": "https://localhost:8080/"
        },
        "id": "xacPhwDSAeRI",
        "outputId": "f5085adf-3c63-4827-92f9-909e725e32c7"
      },
      "execution_count": null,
      "outputs": [
        {
          "output_type": "execute_result",
          "data": {
            "text/plain": [
              "{1, 2, 3}"
            ]
          },
          "metadata": {},
          "execution_count": 50
        }
      ]
    },
    {
      "cell_type": "code",
      "source": [
        "s[0] # Error   There is no order or determined location for members"
      ],
      "metadata": {
        "colab": {
          "base_uri": "https://localhost:8080/",
          "height": 176
        },
        "id": "a3iDY6LtAhy4",
        "outputId": "4cdb9965-2f51-4022-cb19-c0daf85265a5"
      },
      "execution_count": null,
      "outputs": [
        {
          "output_type": "error",
          "ename": "TypeError",
          "evalue": "ignored",
          "traceback": [
            "\u001b[0;31m---------------------------------------------------------------------------\u001b[0m",
            "\u001b[0;31mTypeError\u001b[0m                                 Traceback (most recent call last)",
            "\u001b[0;32m<ipython-input-53-1fbe20f7d30f>\u001b[0m in \u001b[0;36m<cell line: 1>\u001b[0;34m()\u001b[0m\n\u001b[0;32m----> 1\u001b[0;31m \u001b[0ms\u001b[0m\u001b[0;34m[\u001b[0m\u001b[0;36m0\u001b[0m\u001b[0;34m]\u001b[0m \u001b[0;31m# Error   There is no order or determined location for members\u001b[0m\u001b[0;34m\u001b[0m\u001b[0;34m\u001b[0m\u001b[0m\n\u001b[0m",
            "\u001b[0;31mTypeError\u001b[0m: 'set' object is not subscriptable"
          ]
        }
      ]
    },
    {
      "cell_type": "code",
      "source": [
        "len(s)"
      ],
      "metadata": {
        "colab": {
          "base_uri": "https://localhost:8080/"
        },
        "id": "5il133MGAnn_",
        "outputId": "b66173e3-b6e9-4b02-f941-60ffdf44b2b5"
      },
      "execution_count": null,
      "outputs": [
        {
          "output_type": "execute_result",
          "data": {
            "text/plain": [
              "3"
            ]
          },
          "metadata": {},
          "execution_count": 54
        }
      ]
    },
    {
      "cell_type": "code",
      "source": [
        "for x in s:\n",
        "  print(x)"
      ],
      "metadata": {
        "colab": {
          "base_uri": "https://localhost:8080/"
        },
        "id": "kxxtsDGIA2AF",
        "outputId": "d1e8000a-b7eb-4b14-8fa1-940af6780501"
      },
      "execution_count": null,
      "outputs": [
        {
          "output_type": "stream",
          "name": "stdout",
          "text": [
            "1\n",
            "2\n",
            "3\n"
          ]
        }
      ]
    },
    {
      "cell_type": "code",
      "source": [
        "1 in s"
      ],
      "metadata": {
        "colab": {
          "base_uri": "https://localhost:8080/"
        },
        "id": "juyneW9FA9en",
        "outputId": "bd17d615-0ab2-4d1b-bcfb-e011f86e2c20"
      },
      "execution_count": null,
      "outputs": [
        {
          "output_type": "execute_result",
          "data": {
            "text/plain": [
              "True"
            ]
          },
          "metadata": {},
          "execution_count": 61
        }
      ]
    },
    {
      "cell_type": "code",
      "source": [
        "# s = {}  # empty dictionary\n",
        "# s = dict() # empty dictionary\n",
        "# s = set()  # empty set\n",
        "# s = list[]  # empty list\n",
        "# s = []  # empty list"
      ],
      "metadata": {
        "id": "mQiH3zNxBFzI"
      },
      "execution_count": null,
      "outputs": []
    },
    {
      "cell_type": "code",
      "source": [
        "s1 = {'a', 'b', 'c'}\n",
        "s2 = {'c', 'd'}"
      ],
      "metadata": {
        "id": "TfIOV5orDEWg"
      },
      "execution_count": null,
      "outputs": []
    },
    {
      "cell_type": "code",
      "source": [
        "s1.union(s2)"
      ],
      "metadata": {
        "colab": {
          "base_uri": "https://localhost:8080/"
        },
        "id": "LZHkgMoiDcsL",
        "outputId": "e966407a-4942-4a05-e3b3-39bdc1593cb7"
      },
      "execution_count": null,
      "outputs": [
        {
          "output_type": "execute_result",
          "data": {
            "text/plain": [
              "{'a', 'b', 'c', 'd'}"
            ]
          },
          "metadata": {},
          "execution_count": 70
        }
      ]
    },
    {
      "cell_type": "code",
      "source": [
        "s1.intersection(s2)"
      ],
      "metadata": {
        "colab": {
          "base_uri": "https://localhost:8080/"
        },
        "id": "UI667NS7DgRe",
        "outputId": "3cb7364d-96d7-4944-bab9-a341da78404e"
      },
      "execution_count": null,
      "outputs": [
        {
          "output_type": "execute_result",
          "data": {
            "text/plain": [
              "{'c'}"
            ]
          },
          "metadata": {},
          "execution_count": 71
        }
      ]
    },
    {
      "cell_type": "code",
      "source": [
        "s1.difference(s2)"
      ],
      "metadata": {
        "colab": {
          "base_uri": "https://localhost:8080/"
        },
        "id": "VKqcwwB3DlOM",
        "outputId": "1a50cbf6-8415-4fa1-f038-7874829075cc"
      },
      "execution_count": null,
      "outputs": [
        {
          "output_type": "execute_result",
          "data": {
            "text/plain": [
              "{'a', 'b'}"
            ]
          },
          "metadata": {},
          "execution_count": 73
        }
      ]
    },
    {
      "cell_type": "code",
      "source": [
        "s2.difference(s1)"
      ],
      "metadata": {
        "colab": {
          "base_uri": "https://localhost:8080/"
        },
        "id": "_AFbAVHSD2n7",
        "outputId": "9d0a1b3c-2464-4c4e-df0c-d783c9b0e4da"
      },
      "execution_count": null,
      "outputs": [
        {
          "output_type": "execute_result",
          "data": {
            "text/plain": [
              "{'d'}"
            ]
          },
          "metadata": {},
          "execution_count": 74
        }
      ]
    },
    {
      "cell_type": "code",
      "source": [
        "from math import sqrt\n",
        "s = map(sqrt,[9,16])\n",
        "for x in s:\n",
        "  print(x)\n",
        "\n",
        "# OR\n",
        "print(list(map(sqrt,[9,16])))"
      ],
      "metadata": {
        "id": "L9FJuO9MD8sI"
      },
      "execution_count": null,
      "outputs": []
    },
    {
      "cell_type": "code",
      "source": [
        "a = input().split(' ')  # OR a = input().split()\n",
        "print(a)"
      ],
      "metadata": {
        "colab": {
          "base_uri": "https://localhost:8080/"
        },
        "id": "z1Y9V3vTg9NH",
        "outputId": "a7a0249d-8666-4b1f-c075-1ab8f023387a"
      },
      "execution_count": null,
      "outputs": [
        {
          "output_type": "stream",
          "name": "stdout",
          "text": [
            "i am mohammad\n",
            "['i', 'am', 'mohammad']\n"
          ]
        }
      ]
    },
    {
      "cell_type": "code",
      "source": [
        "a = input().split()\n",
        "print(a)\n",
        "\n",
        "for i in range(len(a)):\n",
        "  a[i] = int(a[i])\n",
        "print(a)\n",
        "\n",
        "# OR\n",
        "\n",
        "print(list(map(int,input().split())))"
      ],
      "metadata": {
        "id": "PMiF3vurhqHZ"
      },
      "execution_count": null,
      "outputs": []
    },
    {
      "cell_type": "code",
      "source": [
        "print(__import__('statistics').mean(list(map(int,input().split()))))"
      ],
      "metadata": {
        "colab": {
          "base_uri": "https://localhost:8080/"
        },
        "id": "LQXf5_SXmJ8K",
        "outputId": "e2fc042a-361b-4806-bc20-db3994ead052"
      },
      "execution_count": null,
      "outputs": [
        {
          "output_type": "stream",
          "name": "stdout",
          "text": [
            "2 3 4\n",
            "3\n"
          ]
        }
      ]
    },
    {
      "cell_type": "code",
      "source": [
        "n = int(input())\n",
        "for i in range(1,n+1):\n",
        "  for j in range(1,i+1):\n",
        "    print(j,end = ' ')\n",
        "  print()"
      ],
      "metadata": {
        "colab": {
          "base_uri": "https://localhost:8080/"
        },
        "id": "3OFaSFxvorU6",
        "outputId": "65520e97-abed-441f-ed7a-a523cdc35ad3"
      },
      "execution_count": null,
      "outputs": [
        {
          "output_type": "stream",
          "name": "stdout",
          "text": [
            "3\n",
            "1 \n",
            "1 2 \n",
            "1 2 3 \n"
          ]
        }
      ]
    },
    {
      "cell_type": "code",
      "source": [
        "print(1,2,3, end = '*', sep = '_')"
      ],
      "metadata": {
        "colab": {
          "base_uri": "https://localhost:8080/"
        },
        "id": "_6Z5SjscpX-x",
        "outputId": "da3ef82a-bd8d-494d-de74-36a6e0797182"
      },
      "execution_count": null,
      "outputs": [
        {
          "output_type": "stream",
          "name": "stdout",
          "text": [
            "1_2_3*"
          ]
        }
      ]
    },
    {
      "cell_type": "code",
      "source": [
        "n = int(input('Please enter a number betwwen 1-9: '))\n",
        "\n",
        "for i in range(1,n+1):\n",
        "  for j in range(1,n+1):\n",
        "    print(i*j, end = ' ')\n",
        "  print()"
      ],
      "metadata": {
        "id": "4b37jD2RpxaW"
      },
      "execution_count": null,
      "outputs": []
    },
    {
      "cell_type": "code",
      "source": [
        "# Dictionary\n",
        "d = {'math': 20, 'Python': 17}\n",
        "print(d['math'])\n",
        "print(d.values())\n",
        "print(d.keys())"
      ],
      "metadata": {
        "id": "FoMmHulyr7NK"
      },
      "execution_count": null,
      "outputs": []
    },
    {
      "cell_type": "code",
      "source": [
        "d.pop('math')"
      ],
      "metadata": {
        "colab": {
          "base_uri": "https://localhost:8080/"
        },
        "id": "mh24eujYtCaJ",
        "outputId": "a33283bd-a00e-4ca3-d866-ed8008b72466"
      },
      "execution_count": null,
      "outputs": [
        {
          "output_type": "execute_result",
          "data": {
            "text/plain": [
              "20"
            ]
          },
          "metadata": {},
          "execution_count": 27
        }
      ]
    },
    {
      "cell_type": "code",
      "source": [
        "d['math'] = 19\n",
        "print(d)"
      ],
      "metadata": {
        "colab": {
          "base_uri": "https://localhost:8080/"
        },
        "id": "p73hqVqEylfo",
        "outputId": "02b4182b-5cb7-416b-80dd-713eda7aa3b3"
      },
      "execution_count": null,
      "outputs": [
        {
          "output_type": "stream",
          "name": "stdout",
          "text": [
            "{'Python': 17, 'math': 19}\n"
          ]
        }
      ]
    },
    {
      "cell_type": "code",
      "source": [
        "d.items()"
      ],
      "metadata": {
        "colab": {
          "base_uri": "https://localhost:8080/"
        },
        "id": "Nj1oc1_WzMIu",
        "outputId": "81929eb6-a1ac-4985-e911-b80e07d45374"
      },
      "execution_count": null,
      "outputs": [
        {
          "output_type": "execute_result",
          "data": {
            "text/plain": [
              "dict_items([('Python', 17), ('math', 19)])"
            ]
          },
          "metadata": {},
          "execution_count": 31
        }
      ]
    },
    {
      "cell_type": "code",
      "source": [
        "len(d)"
      ],
      "metadata": {
        "colab": {
          "base_uri": "https://localhost:8080/"
        },
        "id": "qu4Juhq004_M",
        "outputId": "0d42e9bb-cd3d-48e2-9b95-0d1924c31d7b"
      },
      "execution_count": null,
      "outputs": [
        {
          "output_type": "execute_result",
          "data": {
            "text/plain": [
              "2"
            ]
          },
          "metadata": {},
          "execution_count": 37
        }
      ]
    },
    {
      "cell_type": "code",
      "source": [
        "if 'math' in d:\n",
        "  print('yes')\n",
        "if 17 in d.values():\n",
        "  print('No')"
      ],
      "metadata": {
        "colab": {
          "base_uri": "https://localhost:8080/"
        },
        "id": "MdugPHDc1gkT",
        "outputId": "d7bc9665-d02e-4f7a-de5b-95329a134d5b"
      },
      "execution_count": null,
      "outputs": [
        {
          "output_type": "stream",
          "name": "stdout",
          "text": [
            "yes\n",
            "No\n"
          ]
        }
      ]
    },
    {
      "cell_type": "code",
      "source": [
        "for x in d:\n",
        "  print(x)\n",
        "print()\n",
        "for x in d.values():\n",
        "  print(x)\n",
        "print()\n",
        "for x in d.items():\n",
        "  print(x)\n",
        "print()\n",
        "for k,v in d.items():\n",
        "  print(k,v)\n",
        "\n",
        "# Note: Key is Immutable.\n",
        "#       value is Mutable."
      ],
      "metadata": {
        "id": "dsKh-Dmd2K7f"
      },
      "execution_count": null,
      "outputs": []
    },
    {
      "cell_type": "code",
      "source": [
        "g = {'John':     {'math': 20   , 'Python':  17},\n",
        "     'Mohammad': {'Physics': 19, 'Dynamics': 18}}\n",
        "g.values()\n",
        "print(g['John']['Python'])"
      ],
      "metadata": {
        "colab": {
          "base_uri": "https://localhost:8080/"
        },
        "id": "2xgxoNq83Aks",
        "outputId": "6f85a7f6-62ae-4fdb-c34d-d662fcea76b7"
      },
      "execution_count": null,
      "outputs": [
        {
          "output_type": "stream",
          "name": "stdout",
          "text": [
            "17\n"
          ]
        }
      ]
    },
    {
      "cell_type": "code",
      "source": [
        "s = str(input('Please insert string: '))\n",
        "l = [*s]\n",
        "print(l)\n",
        "string = dict()\n",
        "for x in l:\n",
        "  string[x] = l.count(x)\n",
        "string.items()"
      ],
      "metadata": {
        "id": "uXQmAUoR4WDp"
      },
      "execution_count": null,
      "outputs": []
    },
    {
      "cell_type": "code",
      "source": [
        "# Get matrix elements\n",
        "\n",
        "def Get_matrix(n,m):\n",
        "  Matrix = []\n",
        "  for i in range(1,n+1):\n",
        "    mm = []\n",
        "    for j in range(1,m+1):\n",
        "      mm.append(int(input('Enter an element: ')))\n",
        "    Matrix.append(mm)\n",
        "  return Matrix\n",
        "\n",
        "Get_matrix(2,3)"
      ],
      "metadata": {
        "colab": {
          "base_uri": "https://localhost:8080/"
        },
        "id": "du8SPzIL86mh",
        "outputId": "f9bcb60b-1d27-4f74-8c04-897d1af6e851"
      },
      "execution_count": null,
      "outputs": [
        {
          "name": "stdout",
          "output_type": "stream",
          "text": [
            "Enter an element: 1\n",
            "Enter an element: 2\n",
            "Enter an element: 3\n",
            "Enter an element: 4\n",
            "Enter an element: 5\n",
            "Enter an element: 6\n"
          ]
        },
        {
          "output_type": "execute_result",
          "data": {
            "text/plain": [
              "[[1, 2, 3], [4, 5, 6]]"
            ]
          },
          "metadata": {},
          "execution_count": 53
        }
      ]
    },
    {
      "cell_type": "code",
      "source": [
        "m = [[1,2,3],\n",
        "     [4,5,6],\n",
        "     [7,8,9]]\n",
        "\n",
        "for i in range (len(m)):\n",
        "  for j in range (i):\n",
        "    m[i][j],m[j][i] = m[j][i],m[i][j]\n",
        "for row in m:\n",
        "  print (row)"
      ],
      "metadata": {
        "id": "ubEQJwQcPkgY"
      },
      "execution_count": null,
      "outputs": []
    },
    {
      "cell_type": "code",
      "source": [
        "# Class\n",
        "class Rectangle:\n",
        "  def __init__(self,w,h):\n",
        "    self.width  = w\n",
        "    self.height = h\n",
        "  def area(self):\n",
        "    return self.width*self.height\n",
        "\n",
        "r = Rectangle(2,3)\n",
        "print(r.area)\n"
      ],
      "metadata": {
        "colab": {
          "base_uri": "https://localhost:8080/"
        },
        "id": "08Z_Z6T0RCOj",
        "outputId": "c8c649f5-83e1-48d5-de2c-52dc7621c474"
      },
      "execution_count": 10,
      "outputs": [
        {
          "output_type": "stream",
          "name": "stdout",
          "text": [
            "<bound method Rectangle.area of <__main__.Rectangle object at 0x7f7c885f8d30>>\n"
          ]
        }
      ]
    },
    {
      "cell_type": "code",
      "source": [
        "# Recersive\n",
        "def power (a,b):\n",
        "  if b==1:\n",
        "    return a\n",
        "  return power(a,b-1) * a\n",
        "\n",
        "power(2,3)"
      ],
      "metadata": {
        "colab": {
          "base_uri": "https://localhost:8080/"
        },
        "id": "p9EnKsKE02lY",
        "outputId": "086c0153-9568-4016-9ab8-d48df652967e"
      },
      "execution_count": 1,
      "outputs": [
        {
          "output_type": "execute_result",
          "data": {
            "text/plain": [
              "8"
            ]
          },
          "metadata": {},
          "execution_count": 1
        }
      ]
    },
    {
      "cell_type": "code",
      "source": [
        "def fact (n):\n",
        "  if n == 1:\n",
        "    return n\n",
        "  return fact (n-1) * n\n",
        "\n",
        "fact(6)"
      ],
      "metadata": {
        "id": "tb2hOpsz2IE_"
      },
      "execution_count": null,
      "outputs": []
    }
  ]
}